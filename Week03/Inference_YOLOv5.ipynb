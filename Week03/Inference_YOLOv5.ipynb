{
 "cells": [
  {
   "cell_type": "code",
   "execution_count": 6,
   "id": "df73436e-a4e5-4b6b-815f-a03f27e12a5f",
   "metadata": {
    "scrolled": true
   },
   "outputs": [
    {
     "name": "stdout",
     "output_type": "stream",
     "text": [
      "모델 장치: cpu\n",
      "총 5011개 이미지 중 처음 50개만 처리합니다.\n"
     ]
    },
    {
     "name": "stderr",
     "output_type": "stream",
     "text": [
      "추론 진행:   0%|                                                                                | 0/50 [00:00<?, ?it/s]"
     ]
    },
    {
     "name": "stdout",
     "output_type": "stream",
     "text": [
      "\n",
      "image 1/1 C:\\jupyter_project\\Spring_cv\\VOCdevkit\\VOC2007\\JPEGImages\\000005.jpg: 256x320 5 chairs, 78.2ms\n",
      "Speed: 0.9ms preprocess, 78.2ms inference, 0.8ms postprocess per image at shape (1, 3, 256, 320)\n",
      "Results saved to \u001b[1mresults\\cpu_inference\\0000055\u001b[0m\n"
     ]
    },
    {
     "name": "stderr",
     "output_type": "stream",
     "text": [
      "추론 진행:   2%|█▍                                                                      | 1/50 [00:00<00:12,  3.79it/s]"
     ]
    },
    {
     "name": "stdout",
     "output_type": "stream",
     "text": [
      "\n",
      "image 1/1 C:\\jupyter_project\\Spring_cv\\VOCdevkit\\VOC2007\\JPEGImages\\000007.jpg: 224x320 1 car, 72.1ms\n",
      "Speed: 0.8ms preprocess, 72.1ms inference, 0.7ms postprocess per image at shape (1, 3, 224, 320)\n",
      "Results saved to \u001b[1mresults\\cpu_inference\\0000075\u001b[0m\n",
      "\n",
      "image 1/1 C:\\jupyter_project\\Spring_cv\\VOCdevkit\\VOC2007\\JPEGImages\\000009.jpg: 256x320 1 horse, 4 persons, 75.8ms\n",
      "Speed: 0.9ms preprocess, 75.8ms inference, 0.7ms postprocess per image at shape (1, 3, 256, 320)\n",
      "Results saved to \u001b[1mresults\\cpu_inference\\0000095\u001b[0m\n"
     ]
    },
    {
     "name": "stderr",
     "output_type": "stream",
     "text": [
      "추론 진행:   6%|████▎                                                                   | 3/50 [00:00<00:06,  7.33it/s]"
     ]
    },
    {
     "name": "stdout",
     "output_type": "stream",
     "text": [
      "\n",
      "image 1/1 C:\\jupyter_project\\Spring_cv\\VOCdevkit\\VOC2007\\JPEGImages\\000012.jpg: 224x320 1 car, 70.2ms\n",
      "Speed: 0.6ms preprocess, 70.2ms inference, 0.8ms postprocess per image at shape (1, 3, 224, 320)\n",
      "Results saved to \u001b[1mresults\\cpu_inference\\0000125\u001b[0m\n",
      "\n",
      "image 1/1 C:\\jupyter_project\\Spring_cv\\VOCdevkit\\VOC2007\\JPEGImages\\000016.jpg: 320x224 1 bicycle, 70.5ms\n",
      "Speed: 0.7ms preprocess, 70.5ms inference, 0.9ms postprocess per image at shape (1, 3, 320, 224)\n",
      "Results saved to \u001b[1mresults\\cpu_inference\\0000165\u001b[0m\n"
     ]
    },
    {
     "name": "stderr",
     "output_type": "stream",
     "text": [
      "추론 진행:  10%|███████▏                                                                | 5/50 [00:00<00:04,  9.00it/s]"
     ]
    },
    {
     "name": "stdout",
     "output_type": "stream",
     "text": [
      "\n",
      "image 1/1 C:\\jupyter_project\\Spring_cv\\VOCdevkit\\VOC2007\\JPEGImages\\000017.jpg: 256x320 1 horse, 1 person, 80.7ms\n",
      "Speed: 0.9ms preprocess, 80.7ms inference, 0.8ms postprocess per image at shape (1, 3, 256, 320)\n",
      "Results saved to \u001b[1mresults\\cpu_inference\\0000175\u001b[0m\n"
     ]
    },
    {
     "name": "stderr",
     "output_type": "stream",
     "text": [
      "추론 진행:  12%|████████▋                                                               | 6/50 [00:00<00:04,  9.18it/s]"
     ]
    },
    {
     "name": "stdout",
     "output_type": "stream",
     "text": [
      "\n",
      "image 1/1 C:\\jupyter_project\\Spring_cv\\VOCdevkit\\VOC2007\\JPEGImages\\000019.jpg: 256x320 1 cat, 1 dog, 80.4ms\n",
      "Speed: 0.9ms preprocess, 80.4ms inference, 0.8ms postprocess per image at shape (1, 3, 256, 320)\n",
      "Results saved to \u001b[1mresults\\cpu_inference\\0000195\u001b[0m\n"
     ]
    },
    {
     "name": "stderr",
     "output_type": "stream",
     "text": [
      "추론 진행:  14%|██████████                                                              | 7/50 [00:00<00:04,  9.39it/s]"
     ]
    },
    {
     "name": "stdout",
     "output_type": "stream",
     "text": [
      "\n",
      "image 1/1 C:\\jupyter_project\\Spring_cv\\VOCdevkit\\VOC2007\\JPEGImages\\000020.jpg: 320x256 1 car, 80.1ms\n",
      "Speed: 0.7ms preprocess, 80.1ms inference, 0.9ms postprocess per image at shape (1, 3, 320, 256)\n",
      "Results saved to \u001b[1mresults\\cpu_inference\\0000205\u001b[0m\n",
      "\n",
      "image 1/1 C:\\jupyter_project\\Spring_cv\\VOCdevkit\\VOC2007\\JPEGImages\\000021.jpg: 320x224 1 dog, 4 persons, 70.7ms\n",
      "Speed: 0.6ms preprocess, 70.7ms inference, 0.9ms postprocess per image at shape (1, 3, 320, 224)\n",
      "Results saved to \u001b[1mresults\\cpu_inference\\0000215\u001b[0m\n"
     ]
    },
    {
     "name": "stderr",
     "output_type": "stream",
     "text": [
      "추론 진행:  18%|████████████▉                                                           | 9/50 [00:01<00:04,  9.91it/s]"
     ]
    },
    {
     "name": "stdout",
     "output_type": "stream",
     "text": [
      "\n",
      "image 1/1 C:\\jupyter_project\\Spring_cv\\VOCdevkit\\VOC2007\\JPEGImages\\000023.jpg: 320x224 3 bicycles, 2 persons, 72.7ms\n",
      "Speed: 0.7ms preprocess, 72.7ms inference, 0.9ms postprocess per image at shape (1, 3, 320, 224)\n",
      "Results saved to \u001b[1mresults\\cpu_inference\\0000235\u001b[0m\n",
      "\n",
      "image 1/1 C:\\jupyter_project\\Spring_cv\\VOCdevkit\\VOC2007\\JPEGImages\\000024.jpg: 224x320 1 train, 73.6ms\n",
      "Speed: 0.6ms preprocess, 73.6ms inference, 0.8ms postprocess per image at shape (1, 3, 224, 320)\n",
      "Results saved to \u001b[1mresults\\cpu_inference\\0000245\u001b[0m\n"
     ]
    },
    {
     "name": "stderr",
     "output_type": "stream",
     "text": [
      "추론 진행:  22%|███████████████▌                                                       | 11/50 [00:01<00:03, 10.28it/s]"
     ]
    },
    {
     "name": "stdout",
     "output_type": "stream",
     "text": [
      "\n",
      "image 1/1 C:\\jupyter_project\\Spring_cv\\VOCdevkit\\VOC2007\\JPEGImages\\000026.jpg: 224x320 1 car, 72.9ms\n",
      "Speed: 0.6ms preprocess, 72.9ms inference, 0.9ms postprocess per image at shape (1, 3, 224, 320)\n",
      "Results saved to \u001b[1mresults\\cpu_inference\\0000265\u001b[0m\n",
      "\n",
      "image 1/1 C:\\jupyter_project\\Spring_cv\\VOCdevkit\\VOC2007\\JPEGImages\\000030.jpg: 256x320 1 bicycle, 2 persons, 81.6ms\n",
      "Speed: 0.8ms preprocess, 81.6ms inference, 0.7ms postprocess per image at shape (1, 3, 256, 320)\n",
      "Results saved to \u001b[1mresults\\cpu_inference\\0000305\u001b[0m\n"
     ]
    },
    {
     "name": "stderr",
     "output_type": "stream",
     "text": [
      "추론 진행:  26%|██████████████████▍                                                    | 13/50 [00:01<00:03, 10.33it/s]"
     ]
    },
    {
     "name": "stdout",
     "output_type": "stream",
     "text": [
      "\n",
      "image 1/1 C:\\jupyter_project\\Spring_cv\\VOCdevkit\\VOC2007\\JPEGImages\\000032.jpg: 192x320 1 aeroplane, 1 boat, 2 persons, 66.5ms\n",
      "Speed: 0.8ms preprocess, 66.5ms inference, 0.7ms postprocess per image at shape (1, 3, 192, 320)\n",
      "Results saved to \u001b[1mresults\\cpu_inference\\0000325\u001b[0m\n",
      "\n",
      "image 1/1 C:\\jupyter_project\\Spring_cv\\VOCdevkit\\VOC2007\\JPEGImages\\000033.jpg: 256x320 1 aeroplane, 82.5ms\n",
      "Speed: 0.7ms preprocess, 82.5ms inference, 0.8ms postprocess per image at shape (1, 3, 256, 320)\n",
      "Results saved to \u001b[1mresults\\cpu_inference\\0000335\u001b[0m\n"
     ]
    },
    {
     "name": "stderr",
     "output_type": "stream",
     "text": [
      "추론 진행:  30%|█████████████████████▎                                                 | 15/50 [00:01<00:03, 10.48it/s]"
     ]
    },
    {
     "name": "stdout",
     "output_type": "stream",
     "text": [
      "\n",
      "image 1/1 C:\\jupyter_project\\Spring_cv\\VOCdevkit\\VOC2007\\JPEGImages\\000034.jpg: 320x256 1 train, 80.0ms\n",
      "Speed: 0.8ms preprocess, 80.0ms inference, 0.8ms postprocess per image at shape (1, 3, 320, 256)\n",
      "Results saved to \u001b[1mresults\\cpu_inference\\0000345\u001b[0m\n",
      "\n",
      "image 1/1 C:\\jupyter_project\\Spring_cv\\VOCdevkit\\VOC2007\\JPEGImages\\000035.jpg: 256x320 3 persons, 81.2ms\n",
      "Speed: 0.8ms preprocess, 81.2ms inference, 0.8ms postprocess per image at shape (1, 3, 256, 320)\n",
      "Results saved to \u001b[1mresults\\cpu_inference\\0000355\u001b[0m\n"
     ]
    },
    {
     "name": "stderr",
     "output_type": "stream",
     "text": [
      "추론 진행:  34%|████████████████████████▏                                              | 17/50 [00:01<00:03, 10.34it/s]"
     ]
    },
    {
     "name": "stdout",
     "output_type": "stream",
     "text": [
      "\n",
      "image 1/1 C:\\jupyter_project\\Spring_cv\\VOCdevkit\\VOC2007\\JPEGImages\\000036.jpg: 320x224 1 dog, 71.5ms\n",
      "Speed: 0.9ms preprocess, 71.5ms inference, 0.7ms postprocess per image at shape (1, 3, 320, 224)\n",
      "Results saved to \u001b[1mresults\\cpu_inference\\0000365\u001b[0m\n",
      "\n",
      "image 1/1 C:\\jupyter_project\\Spring_cv\\VOCdevkit\\VOC2007\\JPEGImages\\000039.jpg: 256x320 2 tvmonitors, 80.2ms\n",
      "Speed: 0.8ms preprocess, 80.2ms inference, 0.7ms postprocess per image at shape (1, 3, 256, 320)\n",
      "Results saved to \u001b[1mresults\\cpu_inference\\0000395\u001b[0m\n"
     ]
    },
    {
     "name": "stderr",
     "output_type": "stream",
     "text": [
      "추론 진행:  38%|██████████████████████████▉                                            | 19/50 [00:01<00:02, 10.43it/s]"
     ]
    },
    {
     "name": "stdout",
     "output_type": "stream",
     "text": [
      "\n",
      "image 1/1 C:\\jupyter_project\\Spring_cv\\VOCdevkit\\VOC2007\\JPEGImages\\000041.jpg: 224x320 2 persons, 71.3ms\n",
      "Speed: 0.6ms preprocess, 71.3ms inference, 0.9ms postprocess per image at shape (1, 3, 224, 320)\n",
      "Results saved to \u001b[1mresults\\cpu_inference\\0000415\u001b[0m\n",
      "\n",
      "image 1/1 C:\\jupyter_project\\Spring_cv\\VOCdevkit\\VOC2007\\JPEGImages\\000042.jpg: 224x320 2 trains, 69.7ms\n",
      "Speed: 0.6ms preprocess, 69.7ms inference, 0.9ms postprocess per image at shape (1, 3, 224, 320)\n",
      "Results saved to \u001b[1mresults\\cpu_inference\\0000425\u001b[0m\n"
     ]
    },
    {
     "name": "stderr",
     "output_type": "stream",
     "text": [
      "추론 진행:  42%|█████████████████████████████▊                                         | 21/50 [00:02<00:02, 10.74it/s]"
     ]
    },
    {
     "name": "stdout",
     "output_type": "stream",
     "text": [
      "\n",
      "image 1/1 C:\\jupyter_project\\Spring_cv\\VOCdevkit\\VOC2007\\JPEGImages\\000044.jpg: 224x320 1 chair, 1 dog, 72.7ms\n",
      "Speed: 0.7ms preprocess, 72.7ms inference, 0.9ms postprocess per image at shape (1, 3, 224, 320)\n",
      "Results saved to \u001b[1mresults\\cpu_inference\\0000445\u001b[0m\n",
      "\n",
      "image 1/1 C:\\jupyter_project\\Spring_cv\\VOCdevkit\\VOC2007\\JPEGImages\\000046.jpg: 320x224 1 bird, 71.0ms\n",
      "Speed: 0.8ms preprocess, 71.0ms inference, 0.9ms postprocess per image at shape (1, 3, 320, 224)\n",
      "Results saved to \u001b[1mresults\\cpu_inference\\0000465\u001b[0m\n"
     ]
    },
    {
     "name": "stderr",
     "output_type": "stream",
     "text": [
      "추론 진행:  46%|████████████████████████████████▋                                      | 23/50 [00:02<00:02, 10.87it/s]"
     ]
    },
    {
     "name": "stdout",
     "output_type": "stream",
     "text": [
      "\n",
      "image 1/1 C:\\jupyter_project\\Spring_cv\\VOCdevkit\\VOC2007\\JPEGImages\\000047.jpg: 224x320 1 car, 69.7ms\n",
      "Speed: 0.8ms preprocess, 69.7ms inference, 0.7ms postprocess per image at shape (1, 3, 224, 320)\n",
      "Results saved to \u001b[1mresults\\cpu_inference\\0000475\u001b[0m\n",
      "\n",
      "image 1/1 C:\\jupyter_project\\Spring_cv\\VOCdevkit\\VOC2007\\JPEGImages\\000048.jpg: 320x256 1 person, 75.0ms\n",
      "Speed: 0.9ms preprocess, 75.0ms inference, 0.7ms postprocess per image at shape (1, 3, 320, 256)\n",
      "Results saved to \u001b[1mresults\\cpu_inference\\0000485\u001b[0m\n"
     ]
    },
    {
     "name": "stderr",
     "output_type": "stream",
     "text": [
      "추론 진행:  50%|███████████████████████████████████▌                                   | 25/50 [00:02<00:02, 10.92it/s]"
     ]
    },
    {
     "name": "stdout",
     "output_type": "stream",
     "text": [
      "\n",
      "image 1/1 C:\\jupyter_project\\Spring_cv\\VOCdevkit\\VOC2007\\JPEGImages\\000050.jpg: 256x320 3 bottles, 1 diningtable, 4 persons, 1 tvmonitor, 75.7ms\n",
      "Speed: 0.8ms preprocess, 75.7ms inference, 0.8ms postprocess per image at shape (1, 3, 256, 320)\n",
      "Results saved to \u001b[1mresults\\cpu_inference\\0000505\u001b[0m\n",
      "\n",
      "image 1/1 C:\\jupyter_project\\Spring_cv\\VOCdevkit\\VOC2007\\JPEGImages\\000051.jpg: 256x320 2 motorbikes, 2 persons, 76.6ms\n",
      "Speed: 0.7ms preprocess, 76.6ms inference, 0.8ms postprocess per image at shape (1, 3, 256, 320)\n",
      "Results saved to \u001b[1mresults\\cpu_inference\\0000515\u001b[0m\n"
     ]
    },
    {
     "name": "stderr",
     "output_type": "stream",
     "text": [
      "추론 진행:  54%|██████████████████████████████████████▎                                | 27/50 [00:02<00:02, 10.82it/s]"
     ]
    },
    {
     "name": "stdout",
     "output_type": "stream",
     "text": [
      "\n",
      "image 1/1 C:\\jupyter_project\\Spring_cv\\VOCdevkit\\VOC2007\\JPEGImages\\000052.jpg: 224x320 2 pottedplants, 71.3ms\n",
      "Speed: 0.7ms preprocess, 71.3ms inference, 0.9ms postprocess per image at shape (1, 3, 224, 320)\n",
      "Results saved to \u001b[1mresults\\cpu_inference\\0000525\u001b[0m\n",
      "\n",
      "image 1/1 C:\\jupyter_project\\Spring_cv\\VOCdevkit\\VOC2007\\JPEGImages\\000060.jpg: 224x320 5 cars, 69.8ms\n",
      "Speed: 0.7ms preprocess, 69.8ms inference, 0.8ms postprocess per image at shape (1, 3, 224, 320)\n",
      "Results saved to \u001b[1mresults\\cpu_inference\\0000605\u001b[0m\n"
     ]
    },
    {
     "name": "stderr",
     "output_type": "stream",
     "text": [
      "추론 진행:  58%|█████████████████████████████████████████▏                             | 29/50 [00:02<00:01, 10.99it/s]"
     ]
    },
    {
     "name": "stdout",
     "output_type": "stream",
     "text": [
      "\n",
      "image 1/1 C:\\jupyter_project\\Spring_cv\\VOCdevkit\\VOC2007\\JPEGImages\\000061.jpg: 224x320 2 boats, 73.1ms\n",
      "Speed: 0.7ms preprocess, 73.1ms inference, 0.9ms postprocess per image at shape (1, 3, 224, 320)\n",
      "Results saved to \u001b[1mresults\\cpu_inference\\0000615\u001b[0m\n",
      "\n",
      "image 1/1 C:\\jupyter_project\\Spring_cv\\VOCdevkit\\VOC2007\\JPEGImages\\000063.jpg: 256x320 3 chairs, 1 dog, 77.5ms\n",
      "Speed: 0.8ms preprocess, 77.5ms inference, 0.8ms postprocess per image at shape (1, 3, 256, 320)\n",
      "Results saved to \u001b[1mresults\\cpu_inference\\0000635\u001b[0m\n"
     ]
    },
    {
     "name": "stderr",
     "output_type": "stream",
     "text": [
      "추론 진행:  62%|████████████████████████████████████████████                           | 31/50 [00:03<00:01, 10.90it/s]"
     ]
    },
    {
     "name": "stdout",
     "output_type": "stream",
     "text": [
      "\n",
      "image 1/1 C:\\jupyter_project\\Spring_cv\\VOCdevkit\\VOC2007\\JPEGImages\\000064.jpg: 320x320 1 bird, 1 cat, 85.4ms\n",
      "Speed: 1.0ms preprocess, 85.4ms inference, 0.7ms postprocess per image at shape (1, 3, 320, 320)\n",
      "Results saved to \u001b[1mresults\\cpu_inference\\0000645\u001b[0m\n",
      "\n",
      "image 1/1 C:\\jupyter_project\\Spring_cv\\VOCdevkit\\VOC2007\\JPEGImages\\000065.jpg: 224x320 1 dog, 73.2ms\n",
      "Speed: 0.7ms preprocess, 73.2ms inference, 0.9ms postprocess per image at shape (1, 3, 224, 320)\n",
      "Results saved to \u001b[1mresults\\cpu_inference\\0000655\u001b[0m\n"
     ]
    },
    {
     "name": "stderr",
     "output_type": "stream",
     "text": [
      "추론 진행:  66%|██████████████████████████████████████████████▊                        | 33/50 [00:03<00:01, 10.70it/s]"
     ]
    },
    {
     "name": "stdout",
     "output_type": "stream",
     "text": [
      "\n",
      "image 1/1 C:\\jupyter_project\\Spring_cv\\VOCdevkit\\VOC2007\\JPEGImages\\000066.jpg: 256x320 3 persons, 1 train, 78.3ms\n",
      "Speed: 0.7ms preprocess, 78.3ms inference, 0.8ms postprocess per image at shape (1, 3, 256, 320)\n",
      "Results saved to \u001b[1mresults\\cpu_inference\\0000665\u001b[0m\n",
      "\n",
      "image 1/1 C:\\jupyter_project\\Spring_cv\\VOCdevkit\\VOC2007\\JPEGImages\\000072.jpg: 320x224 1 motorbike, 71.8ms\n",
      "Speed: 0.6ms preprocess, 71.8ms inference, 0.9ms postprocess per image at shape (1, 3, 320, 224)\n",
      "Results saved to \u001b[1mresults\\cpu_inference\\0000725\u001b[0m\n"
     ]
    },
    {
     "name": "stderr",
     "output_type": "stream",
     "text": [
      "추론 진행:  70%|█████████████████████████████████████████████████▋                     | 35/50 [00:03<00:01, 10.71it/s]"
     ]
    },
    {
     "name": "stdout",
     "output_type": "stream",
     "text": [
      "\n",
      "image 1/1 C:\\jupyter_project\\Spring_cv\\VOCdevkit\\VOC2007\\JPEGImages\\000073.jpg: 320x256 1 person, 3 pottedplants, 76.1ms\n",
      "Speed: 0.7ms preprocess, 76.1ms inference, 0.7ms postprocess per image at shape (1, 3, 320, 256)\n",
      "Results saved to \u001b[1mresults\\cpu_inference\\0000735\u001b[0m\n",
      "\n",
      "image 1/1 C:\\jupyter_project\\Spring_cv\\VOCdevkit\\VOC2007\\JPEGImages\\000077.jpg: 224x320 3 cats, 72.1ms\n",
      "Speed: 0.7ms preprocess, 72.1ms inference, 0.9ms postprocess per image at shape (1, 3, 224, 320)\n",
      "Results saved to \u001b[1mresults\\cpu_inference\\0000775\u001b[0m\n"
     ]
    },
    {
     "name": "stderr",
     "output_type": "stream",
     "text": [
      "추론 진행:  74%|████████████████████████████████████████████████████▌                  | 37/50 [00:03<00:01, 10.79it/s]"
     ]
    },
    {
     "name": "stdout",
     "output_type": "stream",
     "text": [
      "\n",
      "image 1/1 C:\\jupyter_project\\Spring_cv\\VOCdevkit\\VOC2007\\JPEGImages\\000078.jpg: 288x320 1 dog, 103.8ms\n",
      "Speed: 1.0ms preprocess, 103.8ms inference, 0.8ms postprocess per image at shape (1, 3, 288, 320)\n",
      "Results saved to \u001b[1mresults\\cpu_inference\\0000785\u001b[0m\n",
      "\n",
      "image 1/1 C:\\jupyter_project\\Spring_cv\\VOCdevkit\\VOC2007\\JPEGImages\\000081.jpg: 224x320 8 persons, 1 sofa, 71.0ms\n",
      "Speed: 0.6ms preprocess, 71.0ms inference, 0.9ms postprocess per image at shape (1, 3, 224, 320)\n",
      "Results saved to \u001b[1mresults\\cpu_inference\\0000815\u001b[0m\n"
     ]
    },
    {
     "name": "stderr",
     "output_type": "stream",
     "text": [
      "추론 진행:  78%|███████████████████████████████████████████████████████▍               | 39/50 [00:03<00:01, 10.33it/s]"
     ]
    },
    {
     "name": "stdout",
     "output_type": "stream",
     "text": [
      "\n",
      "image 1/1 C:\\jupyter_project\\Spring_cv\\VOCdevkit\\VOC2007\\JPEGImages\\000083.jpg: 224x320 1 car, 8 persons, 72.0ms\n",
      "Speed: 0.6ms preprocess, 72.0ms inference, 0.9ms postprocess per image at shape (1, 3, 224, 320)\n",
      "Results saved to \u001b[1mresults\\cpu_inference\\0000835\u001b[0m\n",
      "\n",
      "image 1/1 C:\\jupyter_project\\Spring_cv\\VOCdevkit\\VOC2007\\JPEGImages\\000089.jpg: 256x320 4 persons, 1 sofa, 73.4ms\n",
      "Speed: 0.7ms preprocess, 73.4ms inference, 0.7ms postprocess per image at shape (1, 3, 256, 320)\n",
      "Results saved to \u001b[1mresults\\cpu_inference\\0000895\u001b[0m\n"
     ]
    },
    {
     "name": "stderr",
     "output_type": "stream",
     "text": [
      "추론 진행:  82%|██████████████████████████████████████████████████████████▏            | 41/50 [00:04<00:00, 10.55it/s]"
     ]
    },
    {
     "name": "stdout",
     "output_type": "stream",
     "text": [
      "\n",
      "image 1/1 C:\\jupyter_project\\Spring_cv\\VOCdevkit\\VOC2007\\JPEGImages\\000091.jpg: 256x320 1 car, 1 person, 1 pottedplant, 78.8ms\n",
      "Speed: 0.7ms preprocess, 78.8ms inference, 1.1ms postprocess per image at shape (1, 3, 256, 320)\n",
      "Results saved to \u001b[1mresults\\cpu_inference\\0000915\u001b[0m\n",
      "\n",
      "image 1/1 C:\\jupyter_project\\Spring_cv\\VOCdevkit\\VOC2007\\JPEGImages\\000093.jpg: 224x320 1 chair, 1 dog, 77.7ms\n",
      "Speed: 0.9ms preprocess, 77.7ms inference, 0.8ms postprocess per image at shape (1, 3, 224, 320)\n",
      "Results saved to \u001b[1mresults\\cpu_inference\\0000935\u001b[0m\n"
     ]
    },
    {
     "name": "stderr",
     "output_type": "stream",
     "text": [
      "추론 진행:  86%|█████████████████████████████████████████████████████████████          | 43/50 [00:04<00:00, 10.48it/s]"
     ]
    },
    {
     "name": "stdout",
     "output_type": "stream",
     "text": [
      "\n",
      "image 1/1 C:\\jupyter_project\\Spring_cv\\VOCdevkit\\VOC2007\\JPEGImages\\000095.jpg: 224x320 1 train, 73.1ms\n",
      "Speed: 0.6ms preprocess, 73.1ms inference, 0.8ms postprocess per image at shape (1, 3, 224, 320)\n",
      "Results saved to \u001b[1mresults\\cpu_inference\\0000955\u001b[0m\n",
      "\n",
      "image 1/1 C:\\jupyter_project\\Spring_cv\\VOCdevkit\\VOC2007\\JPEGImages\\000099.jpg: 256x320 1 cat, 1 dog, 76.8ms\n",
      "Speed: 0.7ms preprocess, 76.8ms inference, 0.7ms postprocess per image at shape (1, 3, 256, 320)\n",
      "Results saved to \u001b[1mresults\\cpu_inference\\0000995\u001b[0m\n"
     ]
    },
    {
     "name": "stderr",
     "output_type": "stream",
     "text": [
      "추론 진행:  90%|███████████████████████████████████████████████████████████████▉       | 45/50 [00:04<00:00, 10.61it/s]"
     ]
    },
    {
     "name": "stdout",
     "output_type": "stream",
     "text": [
      "\n",
      "image 1/1 C:\\jupyter_project\\Spring_cv\\VOCdevkit\\VOC2007\\JPEGImages\\000101.jpg: 224x320 1 person, 70.7ms\n",
      "Speed: 0.7ms preprocess, 70.7ms inference, 1.0ms postprocess per image at shape (1, 3, 224, 320)\n",
      "Results saved to \u001b[1mresults\\cpu_inference\\0001015\u001b[0m\n",
      "\n",
      "image 1/1 C:\\jupyter_project\\Spring_cv\\VOCdevkit\\VOC2007\\JPEGImages\\000102.jpg: 256x320 2 sofas, 77.5ms\n",
      "Speed: 0.7ms preprocess, 77.5ms inference, 0.8ms postprocess per image at shape (1, 3, 256, 320)\n",
      "Results saved to \u001b[1mresults\\cpu_inference\\0001025\u001b[0m\n"
     ]
    },
    {
     "name": "stderr",
     "output_type": "stream",
     "text": [
      "추론 진행:  94%|██████████████████████████████████████████████████████████████████▋    | 47/50 [00:04<00:00, 10.75it/s]"
     ]
    },
    {
     "name": "stdout",
     "output_type": "stream",
     "text": [
      "\n",
      "image 1/1 C:\\jupyter_project\\Spring_cv\\VOCdevkit\\VOC2007\\JPEGImages\\000104.jpg: 224x320 2 persons, 1 tvmonitor, 73.8ms\n",
      "Speed: 0.7ms preprocess, 73.8ms inference, 1.0ms postprocess per image at shape (1, 3, 224, 320)\n",
      "Results saved to \u001b[1mresults\\cpu_inference\\0001045\u001b[0m\n",
      "\n",
      "image 1/1 C:\\jupyter_project\\Spring_cv\\VOCdevkit\\VOC2007\\JPEGImages\\000107.jpg: 256x320 4 sheeps, 77.3ms\n",
      "Speed: 1.0ms preprocess, 77.3ms inference, 0.8ms postprocess per image at shape (1, 3, 256, 320)\n",
      "Results saved to \u001b[1mresults\\cpu_inference\\0001075\u001b[0m\n"
     ]
    },
    {
     "name": "stderr",
     "output_type": "stream",
     "text": [
      "추론 진행:  98%|█████████████████████████████████████████████████████████████████████▌ | 49/50 [00:04<00:00, 10.75it/s]"
     ]
    },
    {
     "name": "stdout",
     "output_type": "stream",
     "text": [
      "\n",
      "image 1/1 C:\\jupyter_project\\Spring_cv\\VOCdevkit\\VOC2007\\JPEGImages\\000109.jpg: 192x320 1 bird, 64.4ms\n",
      "Speed: 0.6ms preprocess, 64.4ms inference, 0.8ms postprocess per image at shape (1, 3, 192, 320)\n",
      "Results saved to \u001b[1mresults\\cpu_inference\\0001095\u001b[0m\n"
     ]
    },
    {
     "name": "stderr",
     "output_type": "stream",
     "text": [
      "추론 진행: 100%|███████████████████████████████████████████████████████████████████████| 50/50 [00:04<00:00, 10.36it/s]\n"
     ]
    }
   ],
   "source": [
    "import os\n",
    "import cv2\n",
    "import matplotlib.pyplot as plt\n",
    "import glob\n",
    "from pathlib import Path\n",
    "from ultralytics import YOLO\n",
    "from tqdm import tqdm\n",
    "\n",
    "# 1. CPU 모드로 모델 로드\n",
    "def load_model_on_cpu(model_path):\n",
    "    model = YOLO(model_path)\n",
    "    model.to('cpu')\n",
    "    print(f\"모델 장치: {model.device}\")\n",
    "    #print(f\"모델 유형: {model.type}\")\n",
    "    return model\n",
    "\n",
    "# 2. 단일 이미지 추론\n",
    "def predict_single_image(model, image_path, conf=0.25, save=True):\n",
    "    results = model.predict(\n",
    "        source=image_path,\n",
    "        conf=0.25,\n",
    "        device='cpu',\n",
    "        imgsz=320,\n",
    "        batch=4,\n",
    "        save=save\n",
    "    )\n",
    "    return results\n",
    "\n",
    "# 3. 결과 시각화\n",
    "def visualize_result(output_img_path):\n",
    "    if os.path.exists(output_img_path):\n",
    "        img_result = cv2.imread(output_img_path)\n",
    "        img_result = cv2.cvtColor(img_result, cv2.COLOR_BGR2RGB)\n",
    "        \n",
    "        plt.figure(figsize=(10, 8))\n",
    "        plt.imshow(img_result)\n",
    "        plt.axis(\"off\")\n",
    "        plt.title(\"YOLOv5 Inference on CPU\")\n",
    "        plt.show()\n",
    "    else:\n",
    "        print(\"결과 이미지를 찾을 수 없습니다.\")\n",
    "\n",
    "# 4. 배치 처리\n",
    "def batch_inference(model, image_dir, output_dir, conf=0.25, max_images=50):\n",
    "    os.makedirs(output_dir, exist_ok=True)\n",
    "    image_files = glob.glob(os.path.join(image_dir, \"*.jpg\"))\n",
    "    \n",
    "    # 처리할 이미지 수 제한\n",
    "    if len(image_files) > max_images:\n",
    "        print(f\"총 {len(image_files)}개 이미지 중 처음 {max_images}개만 처리합니다.\")\n",
    "        image_files = image_files[:max_images]\n",
    "    else:\n",
    "        print(f\"총 {len(image_files)}개의 이미지를 처리합니다.\")\n",
    "    \n",
    "    for img_path in tqdm(image_files, desc=\"추론 진행\"):\n",
    "            results = model.predict(\n",
    "                source=img_path,\n",
    "                conf=conf,\n",
    "                device='cpu',\n",
    "                imgsz=320,\n",
    "                batch=1,\n",
    "                save=True,\n",
    "                project=output_dir,\n",
    "                name=Path(img_path).stem\n",
    "            )     \n",
    "            del results\n",
    "\n",
    "# 메인 실행 코드\n",
    "if __name__ == \"__main__\":\n",
    "    # 모델 경로 설정\n",
    "    model_path = \"/jupyter_project/Spring_cv/yolov5.pt\"  # 저장된 모델 경로로 변경\n",
    "    \n",
    "    # 모델 로드\n",
    "    model = load_model_on_cpu(model_path)\n",
    "    \n",
    "    # 배치 처리 (선택)\n",
    "    test_dir = \"/jupyter_project/Spring_cv/VOCdevkit/VOC2007/JPEGImages\"  # 테스트 이미지 디렉토리로 변경\n",
    "    output_dir = \"results/cpu_inference\"\n",
    "    if os.path.exists(test_dir):\n",
    "        batch_inference(model, test_dir, output_dir)"
   ]
  }
 ],
 "metadata": {
  "kernelspec": {
   "display_name": "Python 3 (ipykernel)",
   "language": "python",
   "name": "python3"
  },
  "language_info": {
   "codemirror_mode": {
    "name": "ipython",
    "version": 3
   },
   "file_extension": ".py",
   "mimetype": "text/x-python",
   "name": "python",
   "nbconvert_exporter": "python",
   "pygments_lexer": "ipython3",
   "version": "3.9.0"
  }
 },
 "nbformat": 4,
 "nbformat_minor": 5
}
